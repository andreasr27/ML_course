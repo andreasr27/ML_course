{
 "cells": [
  {
   "cell_type": "code",
   "execution_count": 1,
   "metadata": {},
   "outputs": [],
   "source": [
    "# Useful starting lines\n",
    "%matplotlib inline\n",
    "import numpy as np\n",
    "import matplotlib.pyplot as plt\n",
    "%load_ext autoreload\n",
    "%autoreload 2"
   ]
  },
  {
   "cell_type": "markdown",
   "metadata": {},
   "source": [
    "# 1 Least squares and linear basis functions models\n",
    "## 1.1 Least squares"
   ]
  },
  {
   "cell_type": "code",
   "execution_count": 2,
   "metadata": {},
   "outputs": [],
   "source": [
    "def least_squares(y, tx):\n",
    "    \"\"\"calculate the least squares solution.\"\"\"\n",
    "    # ***************************************************\n",
    "    # INSERT YOUR CODE HERE\n",
    "    # least squares: TODO\n",
    "    # returns mse, and optimal weights\n",
    "    # ***************************************************\n",
    "    N=len(y)\n",
    "    #calculation of the best weights, we will use a linear solver\n",
    "    #because if we inverse a matrix numpy uses Gausssian elimination which is unstable\n",
    "    #on the other side linalg solver maybe uses QR decomposition which is more stable under\n",
    "    # limited number precision\n",
    "    A = np.dot(tx.T,tx)\n",
    "    b = np.dot(tx.T,y)\n",
    "    w = np.linalg.solve(A,b)\n",
    "    \n",
    "    #now that we have the weights vector, we can compute the mse\n",
    "    \n",
    "    e=y-np.dot(tx,w)\n",
    "    mse = np.dot(e.T,e) /(2*N)\n",
    "    \n",
    "    return mse, w"
   ]
  },
  {
   "cell_type": "markdown",
   "metadata": {},
   "source": [
    "### Load the data\n",
    "Here we will reuse the dataset `height_weight_genders.csv` from previous exercise section to check the correctness of your implementation. Please compare it with your previous result."
   ]
  },
  {
   "cell_type": "code",
   "execution_count": 3,
   "metadata": {},
   "outputs": [],
   "source": [
    "from helpers import *\n",
    "from grid_search import *\n",
    "\n",
    "def test_your_least_squares():\n",
    "    height, weight, gender = load_data_from_ex02(sub_sample=False, add_outlier=False)\n",
    "    x, mean_x, std_x = standardize(height)\n",
    "    y, tx = build_model_data(x, weight)\n",
    "    # ***************************************************\n",
    "    # INSERT YOUR CODE HERE\n",
    "    # least square or grid search: TODO\n",
    "    # this code should compare the optimal weights obtained \n",
    "    # by least squares vs. grid search\n",
    "    # ***************************************************\n",
    "    \n",
    "    #here we call the function that calculates the weight vector using the normal equations\n",
    "    mse_normal_equations , w_normal_equations = least_squares(y,tx)\n",
    "    \n",
    "    #now we need to find the best vector of weights with grid search\n",
    "    w0,w1 = generate_w(200)\n",
    "    losses = grid_search(y,tx,w0,w1)\n",
    "    mse_grid_search, w0_grid_search, w1_grid_search = get_best_parameters(w0,w1,losses)\n",
    "    \n",
    "    print(\"normal equations loss vs grid search\", mse_normal_equations, mse_grid_search)\n",
    "    print(\"weights of the normal equation\", w_normal_equations[0], w_normal_equations[1])\n",
    "    print(\"weigths of the grid search\", w0_grid_search, w1_grid_search)\n"
   ]
  },
  {
   "cell_type": "markdown",
   "metadata": {},
   "source": [
    "Test it here"
   ]
  },
  {
   "cell_type": "code",
   "execution_count": 4,
   "metadata": {},
   "outputs": [
    {
     "name": "stdout",
     "output_type": "stream",
     "text": [
      "normal equations loss vs grid search 15.385887868829403 15.610085652488802\n",
      "weights of the normal equation 73.29392200210505 13.479712434989228\n",
      "weigths of the grid search 73.36683417085428 12.8140703517588\n"
     ]
    }
   ],
   "source": [
    "test_your_least_squares()"
   ]
  },
  {
   "cell_type": "markdown",
   "metadata": {},
   "source": [
    "## 1.2 Least squares with a linear basis function model\n",
    "Start from this section, we will use the dataset `dataEx3.csv`.\n",
    "\n",
    "### Implement polynomial basis functions"
   ]
  },
  {
   "cell_type": "code",
   "execution_count": 5,
   "metadata": {
    "scrolled": true
   },
   "outputs": [
    {
     "name": "stdout",
     "output_type": "stream",
     "text": [
      "shape of x (50,)\n",
      "shape of y (50,)\n",
      "[0.1, 0.226187455, 0.35237491, 0.478562366, 0.604749821, 0.730937276, 0.857124731, 0.983312187, 1.109499642, 1.235687097, 1.361874552, 1.488062008, 1.614249463, 1.740436918, 1.866624373, 1.992811829, 2.118999284, 2.245186739, 2.371374194, 2.49756165, 2.623749105, 2.74993656, 2.876124015, 3.002311471, 3.128498926, 3.254686381, 3.380873836, 3.507061292, 3.633248747, 3.759436202, 3.885623657, 4.011811113, 4.137998568, 4.264186023, 4.390373478, 4.516560934, 4.642748389, 4.768935844, 4.895123299, 5.021310755, 5.14749821, 5.273685665, 5.39987312, 5.526060576, 5.652248031, 5.778435486, 5.904622941, 6.030810397, 6.156997852, 6.283185307]\n"
     ]
    }
   ],
   "source": [
    "# load dataset\n",
    "x, y = load_data()\n",
    "print(\"shape of x {}\".format(x.shape))\n",
    "print(\"shape of y {}\".format(y.shape))\n",
    "print(sorted(x))"
   ]
  },
  {
   "cell_type": "code",
   "execution_count": 6,
   "metadata": {},
   "outputs": [],
   "source": [
    "def build_poly(x, degree):\n",
    "    \"\"\"polynomial basis functions for input data x, for j=0 up to j=degree.\"\"\"\n",
    "    # ***************************************************\n",
    "    # INSERT YOUR CODE HERE\n",
    "    # polynomial basis function: TODO\n",
    "    # this function should return the matrix formed\n",
    "    # by applying the polynomial basis to the input data\n",
    "    # ***************************************************\n",
    "    \n",
    "    Phi = np.ones((len(x), degree+1))\n",
    "    for j in range(1,degree+1):\n",
    "        Phi[:,j] = Phi[:,j-1] * x\n",
    "    return Phi"
   ]
  },
  {
   "cell_type": "markdown",
   "metadata": {},
   "source": [
    "Let us play with polynomial regression. Note that we will use your implemented function `compute_mse`. Please copy and paste your implementation from exercise02."
   ]
  },
  {
   "cell_type": "code",
   "execution_count": 7,
   "metadata": {},
   "outputs": [],
   "source": [
    "from costs import calculate_mse\n",
    "from plots import *\n",
    "\n",
    "def polynomial_regression():\n",
    "    \"\"\"Constructing the polynomial basis function expansion of the data,\n",
    "       and then running least squares regression.\"\"\"\n",
    "    # define parameters\n",
    "    degrees = [1,3,7, 51]\n",
    "    \n",
    "    # define the structure of the figure\n",
    "    num_row = 2\n",
    "    num_col = 2\n",
    "    f, axs = plt.subplots(num_row, num_col)\n",
    "\n",
    "    for ind, degree in enumerate(degrees):\n",
    "        # ***************************************************\n",
    "        # form the data to do polynomial regression.: TODO\n",
    "        # ***************************************************\n",
    "        Phi = build_poly(x,degree)\n",
    "        \n",
    "        \n",
    "        # ***************************************************\n",
    "        # INSERT YOUR CODE HERE\n",
    "        # least square and calculate RMSE: TODO\n",
    "        # ***************************************************\n",
    "        mse, weights = least_squares(y,Phi)\n",
    "        rmse = np.sqrt(2*mse)\n",
    "        print(\"Processing {i}th experiment, degree={d}, rmse={loss}\".format(\n",
    "              i=ind + 1, d=degree, loss=rmse))\n",
    "        # plot fit\n",
    "        plot_fitted_curve(\n",
    "            y, x, weights, degree, axs[ind // num_col][ind % num_col])\n",
    "    plt.tight_layout()\n",
    "    plt.savefig(\"visualize_polynomial_regression\")\n",
    "    plt.show()"
   ]
  },
  {
   "cell_type": "markdown",
   "metadata": {},
   "source": [
    "Run polynomial regression"
   ]
  },
  {
   "cell_type": "code",
   "execution_count": 8,
   "metadata": {},
   "outputs": [
    {
     "name": "stdout",
     "output_type": "stream",
     "text": [
      "Processing 1th experiment, degree=1, rmse=0.47187607963421874\n",
      "Processing 2th experiment, degree=3, rmse=0.2585827766773748\n",
      "Processing 3th experiment, degree=7, rmse=0.24965870360907474\n",
      "Processing 4th experiment, degree=51, rmse=0.23190805135041986\n"
     ]
    },
    {
     "data": {
      "image/png": "[encoded data removed]",
      "text/plain": [
       "<Figure size 432x288 with 4 Axes>"
      ]
     },
     "metadata": {},
     "output_type": "display_data"
    }
   ],
   "source": [
    "polynomial_regression()"
   ]
  },
  {
   "cell_type": "markdown",
   "metadata": {},
   "source": [
    "# 2 Evaluating model predication performance\n",
    "\n",
    "\n",
    "Let us show the train and test splits for various polynomial degrees. First of all, please fill in the function `split_data()`"
   ]
  },
  {
   "cell_type": "code",
   "execution_count": 9,
   "metadata": {},
   "outputs": [],
   "source": [
    "def split_data(x, y, ratio, seed=1):\n",
    "    \"\"\"\n",
    "    split the dataset based on the split ratio. If ratio is 0.8 \n",
    "    you will have 80% of your data set dedicated to training \n",
    "    and the rest dedicated to testing\n",
    "    \"\"\"\n",
    "    \n",
    "    \"\"\"\n",
    "    so ration * dataset = training\n",
    "    and (1-ratio) * dataset = testing\n",
    "    \"\"\"\n",
    "    # set seed\n",
    "    np.random.seed(seed)\n",
    "    # ***************************************************\n",
    "    # INSERT YOUR CODE HERE\n",
    "    # split the data based on the given ratio: TODO\n",
    "    # ***************************************************\n",
    "    # n = the number of samples\n",
    "    n = len(y)\n",
    "    training_size = int(ratio * n)\n",
    "    # choose the training indices\n",
    "    tr_idxs = np.random.choice(n,training_size,replace=False)\n",
    "    \n",
    "    #choose the test indices (the must be the indices not already selected to be the training indices)\n",
    "    test_idxs = [i for i in range(0,n) if i not in tr_idxs]\n",
    "    \n",
    "    y_tr = y[tr_idxs]\n",
    "    x_tr = x[tr_idxs]\n",
    "    \n",
    "    y_test = y[test_idxs]\n",
    "    x_test = x[test_idxs]\n",
    "    \n",
    "    return y_tr, x_tr, y_test, x_test"
   ]
  },
  {
   "cell_type": "markdown",
   "metadata": {},
   "source": [
    "Then, test your `split_data` function below."
   ]
  },
  {
   "cell_type": "code",
   "execution_count": 10,
   "metadata": {},
   "outputs": [],
   "source": [
    "def train_test_split_demo(x, y, degree, ratio, seed):\n",
    "    \"\"\"polynomial regression with different split ratios and different degrees.\"\"\"\n",
    "    # ***************************************************\n",
    "    # INSERT YOUR CODE HERE\n",
    "    # split the data, and return train and test data: TODO\n",
    "    # ***************************************************\n",
    "    y_tr, x_tr, y_test, x_test = split_data(x,y,ratio)\n",
    "    # ***************************************************\n",
    "    # INSERT YOUR CODE HERE\n",
    "    # form train and test data with polynomial basis function: TODO\n",
    "    # ***************************************************\n",
    "    Phi_tr = build_poly(x_tr, degree)\n",
    "    Phi_test = build_poly(x_test, degree)\n",
    "    # ***************************************************\n",
    "    # INSERT YOUR CODE HERE\n",
    "    # calcualte weight through least square.: TODO\n",
    "    # ***************************************************\n",
    "    mse_tr, w_tr = least_squares(y_tr, Phi_tr)\n",
    "    # ***************************************************\n",
    "    # INSERT YOUR CODE HERE\n",
    "    # calculate RMSE for train and test data,\n",
    "    # and store them in rmse_tr and rmse_te respectively: TODO\n",
    "    # ***************************************************\n",
    "    rmse_tr = np.sqrt(2 * mse_tr)\n",
    "    \n",
    "    # we compute the mse of the test set using the best weights for the training set\n",
    "    mse_te = compute_loss(y_test, Phi_test, w_tr)\n",
    "    rmse_te = np.sqrt(2 * mse_te)\n",
    "    print(\"proportion={p}, degree={d}, Training RMSE={tr:.3f}, Testing RMSE={te:.3f}\".format(\n",
    "          p=ratio, d=degree, tr=rmse_tr, te=rmse_te))\n"
   ]
  },
  {
   "cell_type": "code",
   "execution_count": 11,
   "metadata": {},
   "outputs": [
    {
     "name": "stdout",
     "output_type": "stream",
     "text": [
      "proportion=0.9, degree=1, Training RMSE=0.455, Testing RMSE=0.621\n",
      "proportion=0.9, degree=3, Training RMSE=0.264, Testing RMSE=0.214\n",
      "proportion=0.9, degree=7, Training RMSE=0.257, Testing RMSE=0.189\n",
      "proportion=0.9, degree=12, Training RMSE=0.249, Testing RMSE=0.231\n",
      "proportion=0.5, degree=1, Training RMSE=0.400, Testing RMSE=0.553\n",
      "proportion=0.5, degree=3, Training RMSE=0.237, Testing RMSE=0.306\n",
      "proportion=0.5, degree=7, Training RMSE=0.218, Testing RMSE=0.336\n",
      "proportion=0.5, degree=12, Training RMSE=0.213, Testing RMSE=0.347\n",
      "proportion=0.1, degree=1, Training RMSE=0.453, Testing RMSE=0.748\n",
      "proportion=0.1, degree=3, Training RMSE=0.111, Testing RMSE=0.674\n",
      "proportion=0.1, degree=7, Training RMSE=0.000, Testing RMSE=1.792\n",
      "proportion=0.1, degree=12, Training RMSE=0.000, Testing RMSE=2.463\n"
     ]
    }
   ],
   "source": [
    "seed = 6\n",
    "degrees = [1, 3, 7, 12]\n",
    "split_ratios = [0.9, 0.5, 0.1]\n",
    "\n",
    "for split_ratio in split_ratios:\n",
    "    for degree in degrees:\n",
    "        train_test_split_demo(x, y, degree, split_ratio, seed)"
   ]
  },
  {
   "cell_type": "markdown",
   "metadata": {},
   "source": [
    "# 3 Ridge Regression\n",
    "Please fill in the function below."
   ]
  },
  {
   "cell_type": "code",
   "execution_count": 12,
   "metadata": {},
   "outputs": [],
   "source": [
    "def ridge_regression(y, tx, lambda_):\n",
    "    \"\"\"implement ridge regression.\"\"\"\n",
    "    # ***************************************************\n",
    "    # INSERT YOUR CODE HERE\n",
    "    # ridge regression: TODO\n",
    "    # ***************************************************\n",
    "    N = len(y)\n",
    "    d = tx.shape[1]\n",
    "    _lambda = 2 * N * lambda_ \n",
    "    #as usually we will use a linear solver\n",
    "    A = _lambda * np.identity(d) + np.dot(tx.T,tx)\n",
    "    b = np.dot(tx.T,y)\n",
    "    print(np.dot(tx.T,tx).shape)\n",
    "    w = np.linalg.solve(A,b)\n",
    "    return w"
   ]
  },
  {
   "cell_type": "code",
   "execution_count": 13,
   "metadata": {},
   "outputs": [],
   "source": [
    "def ridge_regression_demo(x, y, degree, ratio, seed):\n",
    "    \"\"\"ridge regression demo.\"\"\"\n",
    "    # define parameter\n",
    "    lambdas = np.logspace(-5, 0, 15)\n",
    "    # ***************************************************\n",
    "    # INSERT YOUR CODE HERE\n",
    "    # split the data, and return train and test data: TODO\n",
    "    # ***************************************************\n",
    "    y_tr, x_tr, y_test, x_test = split_data(x,y,ratio)\n",
    "    # ***************************************************\n",
    "    # INSERT YOUR CODE HERE\n",
    "    # form train and test data with polynomial basis function: TODO\n",
    "    # ***************************************************\n",
    "    Phi_tr = build_poly(x_tr, degree)\n",
    "    Phi_test = build_poly(x_test, degree)\n",
    "    \n",
    "    rmse_tr = []\n",
    "    rmse_te = []\n",
    "    for ind, lambda_ in enumerate(lambdas):\n",
    "        # ***************************************************\n",
    "        # INSERT YOUR CODE HERE\n",
    "        # ridge regression with a given lambda\n",
    "        # ***************************************************\n",
    "        w_tr = ridge_regression(y_tr, Phi_tr, lambda_)\n",
    "        \n",
    "        #now I will calculate the mse error for the training set and the test set\n",
    "        #given the output weight vector w_tr of the ridge regression procedure\n",
    "        mse_tr = compute_loss(y_tr, Phi_tr, w_tr)\n",
    "        rmse_tr.append(np.sqrt(2 * mse_tr))\n",
    "        \n",
    "        mse_te = compute_loss(y_test, Phi_test, w_tr)\n",
    "        rmse_te.append(np.sqrt(2 * mse_te))\n",
    "        \n",
    "        print(\"proportion={p}, degree={d}, lambda={l:.3f}, Training RMSE={tr:.3f}, Testing RMSE={te:.3f}\".format(\n",
    "               p=ratio, d=degree, l=lambda_, tr=rmse_tr[ind], te=rmse_te[ind]))\n",
    "        \n",
    "    # Plot the obtained results\n",
    "    plot_train_test(rmse_tr, rmse_te, lambdas, degree)\n",
    "\n"
   ]
  },
  {
   "cell_type": "code",
   "execution_count": 14,
   "metadata": {},
   "outputs": [
    {
     "name": "stdout",
     "output_type": "stream",
     "text": [
      "(8, 8)\n",
      "proportion=0.5, degree=7, lambda=0.000, Training RMSE=0.220, Testing RMSE=0.319\n",
      "(8, 8)\n",
      "proportion=0.5, degree=7, lambda=0.000, Training RMSE=0.222, Testing RMSE=0.319\n",
      "(8, 8)\n",
      "proportion=0.5, degree=7, lambda=0.000, Training RMSE=0.225, Testing RMSE=0.322\n",
      "(8, 8)\n",
      "proportion=0.5, degree=7, lambda=0.000, Training RMSE=0.226, Testing RMSE=0.325\n",
      "(8, 8)\n",
      "proportion=0.5, degree=7, lambda=0.000, Training RMSE=0.227, Testing RMSE=0.327\n",
      "(8, 8)\n",
      "proportion=0.5, degree=7, lambda=0.001, Training RMSE=0.228, Testing RMSE=0.329\n",
      "(8, 8)\n",
      "proportion=0.5, degree=7, lambda=0.001, Training RMSE=0.228, Testing RMSE=0.329\n",
      "(8, 8)\n",
      "proportion=0.5, degree=7, lambda=0.003, Training RMSE=0.229, Testing RMSE=0.327\n",
      "(8, 8)\n",
      "proportion=0.5, degree=7, lambda=0.007, Training RMSE=0.229, Testing RMSE=0.319\n",
      "(8, 8)\n",
      "proportion=0.5, degree=7, lambda=0.016, Training RMSE=0.232, Testing RMSE=0.302\n",
      "(8, 8)\n",
      "proportion=0.5, degree=7, lambda=0.037, Training RMSE=0.239, Testing RMSE=0.279\n",
      "(8, 8)\n",
      "proportion=0.5, degree=7, lambda=0.085, Training RMSE=0.259, Testing RMSE=0.266\n",
      "(8, 8)\n",
      "proportion=0.5, degree=7, lambda=0.193, Training RMSE=0.297, Testing RMSE=0.294\n",
      "(8, 8)\n",
      "proportion=0.5, degree=7, lambda=0.439, Training RMSE=0.342, Testing RMSE=0.344\n",
      "(8, 8)\n",
      "proportion=0.5, degree=7, lambda=1.000, Training RMSE=0.380, Testing RMSE=0.374\n"
     ]
    },
    {
     "data": {
      "image/png": "[encoded data removed]",
      "text/plain": [
       "<Figure size 432x288 with 1 Axes>"
      ]
     },
     "metadata": {},
     "output_type": "display_data"
    }
   ],
   "source": [
    "seed = 56\n",
    "degree = 7\n",
    "split_ratio = 0.5\n",
    "ridge_regression_demo(x, y, degree, split_ratio, seed)"
   ]
  },
  {
   "cell_type": "markdown",
   "metadata": {},
   "source": [
    "Here we wiil make the experiment described in the exercise03 pdf to understand the importance of the condition number\n",
    "A very big condition number means a system that is not stable numerically"
   ]
  },
  {
   "cell_type": "code",
   "execution_count": 17,
   "metadata": {},
   "outputs": [
    {
     "name": "stdout",
     "output_type": "stream",
     "text": [
      "[ -99.99999999 -199.99999998] 2.3506289251939907e-17\n",
      "[40000.12981314 79800.25897915] 2.0938488423140333e-08\n",
      "2503.0046004808573\n"
     ]
    }
   ],
   "source": [
    "X = np.array([[400,-201],[-800, 401]])\n",
    "y = np.array([200,-200])\n",
    "\n",
    "X_ = np.array([[401,-201],[-800, 401]])\n",
    "\n",
    "\n",
    "mse, w = least_squares(y,X)\n",
    "mse_ , w_ = least_squares(y,X_)\n",
    "\n",
    "print(w, mse)\n",
    "print(w_ , mse_)\n",
    "\n",
    "print(np.linalg.cond(X))"
   ]
  },
  {
   "cell_type": "code",
   "execution_count": null,
   "metadata": {},
   "outputs": [],
   "source": []
  }
 ],
 "metadata": {
  "anaconda-cloud": {},
  "kernelspec": {
   "display_name": "Python [default]",
   "language": "python",
   "name": "python3"
  },
  "language_info": {
   "codemirror_mode": {
    "name": "ipython",
    "version": 3
   },
   "file_extension": ".py",
   "mimetype": "text/x-python",
   "name": "python",
   "nbconvert_exporter": "python",
   "pygments_lexer": "ipython3",
   "version": "3.6.5"
  }
 },
 "nbformat": 4,
 "nbformat_minor": 1
}
